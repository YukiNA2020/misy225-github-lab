{
 "cells": [
  {
   "cell_type": "code",
   "execution_count": 1,
   "metadata": {},
   "outputs": [
    {
     "name": "stdout",
     "output_type": "stream",
     "text": [
      "this is a lab\n"
     ]
    }
   ],
   "source": [
    "print('this is a lab')"
   ]
  }
 ],
 "metadata": {
  "kernelspec": {
   "display_name": "Python 3.10.4 ('ds')",
   "language": "python",
   "name": "python3"
  },
  "language_info": {
   "name": "python",
   "version": "3.10.4"
  },
  "orig_nbformat": 4,
  "vscode": {
   "interpreter": {
    "hash": "0987a6adb39e037a530122f6e5bf826df493d42fa38ec523f13e0c2372ca0190"
   }
  }
 },
 "nbformat": 4,
 "nbformat_minor": 2
}
